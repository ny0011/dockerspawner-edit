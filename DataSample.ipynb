{
 "cells": [
  {
   "cell_type": "markdown",
   "metadata": {
    "collapsed": true
   },
   "source": [
    "이용할 column : 시도명, 자료수(도서),자료수(연속간행물),자료수(비도서)"
   ]
  },
  {
   "cell_type": "markdown",
   "metadata": {},
   "source": [
    "hypothesis : 수도권과 비수도권의 도서관당 보유한 자료수의 차이는 유의미하다."
   ]
  },
  {
   "cell_type": "code",
   "execution_count": 1,
   "metadata": {
    "collapsed": false
   },
   "outputs": [
    {
     "name": "stdout",
     "output_type": "stream",
     "text": [
      "Requirement already satisfied (use --upgrade to upgrade): xlrd in /opt/conda/lib/python3.5/site-packages\r\n",
      "\u001b[33mYou are using pip version 8.1.1, however version 8.1.2 is available.\r\n",
      "You should consider upgrading via the 'pip install --upgrade pip' command.\u001b[0m\r\n"
     ]
    }
   ],
   "source": [
    "!pip install xlrd\n",
    "import pandas as pd"
   ]
  },
  {
   "cell_type": "code",
   "execution_count": 2,
   "metadata": {
    "collapsed": true
   },
   "outputs": [],
   "source": [
    "xl = pd.read_excel(\"data.xls\")"
   ]
  },
  {
   "cell_type": "code",
   "execution_count": 3,
   "metadata": {
    "collapsed": false
   },
   "outputs": [],
   "source": [
    "city1 = xl['시도명'].tolist()\n",
    "book1 = xl['자료수(도서)'].tolist()\n",
    "book2 = xl['자료수(연속간행물)'].tolist()\n",
    "book3 = xl['자료수(비도서)'].tolist()"
   ]
  },
  {
   "cell_type": "code",
   "execution_count": 4,
   "metadata": {
    "collapsed": false
   },
   "outputs": [],
   "source": [
    "\"\"\"\n",
    "\n",
    "0  서울특별시 02\n",
    "1  경기도 031\n",
    "2  인천광역시 032 \n",
    "---- 위 세 곳이 수도권 ---- 수도권 : 1, 비수도권 : 2\n",
    "3  강원도 033\n",
    "4  충청남도 041\n",
    "5  대전광역시 042\n",
    "6  충청북도 043\n",
    "7  세종특별자치시 044\n",
    "8  부산광역시 051\n",
    "9 울산광역시 052\n",
    "10 대구광역시 053\n",
    "11 경상북도 054\n",
    "12 경상남도 055\n",
    "13 전라남도 061\n",
    "14 광주광역시 062\n",
    "15 전라북도 063\n",
    "16 제주특별자치도 064\n",
    "\"\"\"\n",
    "citys = [0]*len(city1)\n",
    "\n",
    "for j in range(len(city1)):\n",
    "    if(city1[j]=='서울특별시'): citys[j]=0\n",
    "    elif(city1[j]=='경기도'):  citys[j]=1\n",
    "    elif(city1[j]=='인천광역시'):  citys[j]=2\n",
    "    elif(city1[j]=='강원도'):  citys[j]=3\n",
    "    elif(city1[j]=='충청남도'): citys[j]=4\n",
    "    elif(city1[j]=='대전광역시'): citys[j]=5\n",
    "    elif(city1[j]=='충청북도'): citys[j]=6\n",
    "    elif(city1[j]=='세종특별자치시'): citys[j]=7\n",
    "    elif(city1[j]=='부산광역시'): citys[j]=8\n",
    "    elif(city1[j]=='울산광역시'): citys[j]=9\n",
    "    elif(city1[j]=='대구광역시'): citys[j]=10\n",
    "    elif(city1[j]=='경상북도'): citys[j]=11\n",
    "    elif(city1[j]=='경상남도'): citys[j]=12\n",
    "    elif(city1[j]=='전라남도'): citys[j]=13\n",
    "    elif(city1[j]=='광주광역시'): citys[j]=14\n",
    "    elif(city1[j]=='전라북도'): citys[j]=15\n",
    "    elif(city1[j]=='제주특별자치도'): citys[j]=16"
   ]
  },
  {
   "cell_type": "code",
   "execution_count": 5,
   "metadata": {
    "collapsed": false
   },
   "outputs": [],
   "source": [
    "book1 = [float(b) for b in book1]\n",
    "book2 = [float(c) for c in book2]\n",
    "book3 = [float(d) for d in book3]\n",
    "bookTmp = [0]*len(book1)\n",
    "for i in range(len(book1)):\n",
    "    bookTmp[i] = book1[i]+book2[i]+book3[i]\n",
    "\n",
    "books = [0.0]*17\n",
    "count_library = [0]*17\n",
    "means = [0.0]*17\n",
    "books_area = [0.0]*2\n",
    "\n",
    "#citys의 값이 1부터 17까지 중 하나면 그 값에 해당하는 books의 인덱스에 bookTmp의 합을 더함    \n",
    "for i in range(len(city1)): #i=0 ~ len-1\n",
    "    for j in range(17):\n",
    "        if(citys[i]==j): \n",
    "            books[j] += bookTmp[i] \n",
    "            count_library[j] +=1"
   ]
  },
  {
   "cell_type": "code",
   "execution_count": 6,
   "metadata": {
    "collapsed": false
   },
   "outputs": [],
   "source": [
    "#수도권과 비수도권으로 나눔. 수도권 : index = 1 비수도권 : index = 2\n",
    "#data1_index : data1의 도서관 개수\n",
    "#data2_index : data2의 도서관 개수\n",
    "index = [0]*(len(city1))\n",
    "\n",
    "data1_index = 0 \n",
    "data2_index = 0\n",
    "for i in range(len(city1)):\n",
    "    if(citys[i]<=2): \n",
    "        index[i]=1\n",
    "        data1_index+=1\n",
    "    else : \n",
    "        index[i]=2\n",
    "        data2_index+=1"
   ]
  },
  {
   "cell_type": "code",
   "execution_count": 7,
   "metadata": {
    "collapsed": false
   },
   "outputs": [],
   "source": [
    "#수도권은 수도권끼리 비수도권은 비수도권끼리 리스트 만듬\n",
    "\n",
    "data1 = [0]*(data1_index)\n",
    "data2 = [0]*(data2_index)\n",
    "j=0\n",
    "k=0\n",
    "for i in range(len(city1)):\n",
    "    if(index[i]==1) : \n",
    "        data1[j]=bookTmp[i]\n",
    "        j=j+1\n",
    "    else :\n",
    "        data2[k]=bookTmp[i]\n",
    "        k=k+1"
   ]
  },
  {
   "cell_type": "code",
   "execution_count": 8,
   "metadata": {
    "collapsed": false
   },
   "outputs": [],
   "source": [
    "#수도권과 비수도권의 개수가 달라서 비수도권 중 수도권의 개수만큼 다시 뽑기\n",
    "import random",
    "\n",
    "for i in range(data1_index):\n",
    "    random.seed(i)\n",
    "    a=int((random.random())*data2_index)\n",
    "    group2[i]=data2[a]\n",
    "\n",
    "data = data1 + group2\n"
   ]
  },
  {
   "cell_type": "code",
   "execution_count": 9,
   "metadata": {
    "collapsed": false
   },
   "outputs": [],
   "source": [
    "import json\n",
    "with open('data1.json','w') as f:\n",
    "    json.dump(data1, f)\n",
    "with open('data2.json','w') as f:\n",
    "    json.dump(data2, f)\n"
   ]
  }
 ],
 "metadata": {
  "kernelspec": {
   "display_name": "Python 3",
   "language": "python",
   "name": "python3"
  },
  "language_info": {
   "codemirror_mode": {
    "name": "ipython",
    "version": 3
   },
   "file_extension": ".py",
   "mimetype": "text/x-python",
   "name": "python",
   "nbconvert_exporter": "python",
   "pygments_lexer": "ipython3",
   "version": "3.5.1"
  }
 },
 "nbformat": 4,
 "nbformat_minor": 0
}
