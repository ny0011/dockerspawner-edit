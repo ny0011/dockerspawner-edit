{
 "cells": [
  {
   "cell_type": "markdown",
   "metadata": {},
   "source": [
    "hypothesis : 수도권과 비수도권의 도서관 당 보유한 자료수의 distribution은 다르다"
   ]
  },
  {
   "cell_type": "markdown",
   "metadata": {},
   "source": [
    "null hypothesis : 수도권과 비수도권의 도서관 당 보유한 자료수의 distribution은 같다"
   ]
  },
  {
   "cell_type": "code",
   "execution_count": 1,
   "metadata": {
    "collapsed": false
   },
   "outputs": [],
   "source": [
    "import json\n",
    "\n",
    "with open('data1.json', 'r') as g: \n",
    "    data1 = json.load(g)\n",
    "with open('data2.json', 'r') as g: \n",
    "    data2 = json.load(g)"
   ]
  },
  {
   "cell_type": "code",
   "execution_count": 2,
   "metadata": {
    "collapsed": false
   },
   "outputs": [
    {
     "name": "stdout",
     "output_type": "stream",
     "text": [
      "/home/2011190707/0531project/code\n"
     ]
    }
   ],
   "source": [
    "cd code"
   ]
  },
  {
   "cell_type": "code",
   "execution_count": 3,
   "metadata": {
    "collapsed": false
   },
   "outputs": [],
   "source": [
    "from __future__ import print_function, division\n",
    "\n",
    "import nsfg\n",
    "import nsfg2\n",
    "import first\n",
    "\n",
    "import thinkstats2\n",
    "import thinkplot\n",
    "\n",
    "import copy\n",
    "import random\n",
    "import numpy as np\n",
    "import matplotlib.pyplot as pyplot"
   ]
  },
  {
   "cell_type": "code",
   "execution_count": 4,
   "metadata": {
    "collapsed": false
   },
   "outputs": [],
   "source": [
    "class DiffMeansPermute(thinkstats2.HypothesisTest):\n",
    "    \"\"\"Tests a difference in means by permutation.\"\"\"\n",
    "\n",
    "    def TestStatistic(self, data):\n",
    "        \"\"\"Computes the test statistic.\n",
    "\n",
    "        data: data in whatever form is relevant        \n",
    "        \"\"\"\n",
    "        group1, group2 = data\n",
    "        test_stat = abs(group1.mean() - group2.mean())\n",
    "        return test_stat\n",
    "\n",
    "    def MakeModel(self):\n",
    "        \"\"\"Build a model of the null hypothesis.\n",
    "        \"\"\"\n",
    "        group1, group2 = self.data\n",
    "        self.n, self.m = len(group1), len(group2)\n",
    "        self.pool = np.hstack((group1, group2))\n",
    "\n",
    "    def RunModel(self):\n",
    "        \"\"\"Run the model of the null hypothesis.\n",
    "\n",
    "        returns: simulated data\n",
    "        \"\"\"\n",
    "        np.random.shuffle(self.pool)\n",
    "        data = self.pool[:self.n], self.pool[self.n:]\n",
    "        return data"
   ]
  },
  {
   "cell_type": "code",
   "execution_count": 5,
   "metadata": {
    "collapsed": true
   },
   "outputs": [],
   "source": [
    "class DiffMeansOneSided(DiffMeansPermute):\n",
    "    \"\"\"Tests a one-sided difference in means by permutation.\"\"\"\n",
    "\n",
    "    def TestStatistic(self, data):\n",
    "        \"\"\"Computes the test statistic.\n",
    "\n",
    "        data: data in whatever form is relevant        \n",
    "        \"\"\"\n",
    "        group1, group2 = data\n",
    "        test_stat = group1.mean() - group2.mean()\n",
    "        return test_stat"
   ]
  },
  {
   "cell_type": "code",
   "execution_count": 6,
   "metadata": {
    "collapsed": true
   },
   "outputs": [],
   "source": [
    "class DiffStdPermute(DiffMeansPermute):\n",
    "    \"\"\"Tests a one-sided difference in standard deviation by permutation.\"\"\"\n",
    "\n",
    "    def TestStatistic(self, data):\n",
    "        \"\"\"Computes the test statistic.\n",
    "\n",
    "        data: data in whatever form is relevant        \n",
    "        \"\"\"\n",
    "        group1, group2 = data\n",
    "        test_stat = group1.std() - group2.std()\n",
    "        return test_stat"
   ]
  },
  {
   "cell_type": "code",
   "execution_count": 7,
   "metadata": {
    "collapsed": true
   },
   "outputs": [],
   "source": [
    "def PrintTest(p_value, ht):\n",
    "    \"\"\"Prints results from a hypothesis test.\n",
    "\n",
    "    p_value: float\n",
    "    ht: HypothesisTest\n",
    "    \"\"\"\n",
    "    print('p-value =', p_value)\n",
    "    print('actual =', ht.actual)\n",
    "    print('ts max =', ht.MaxTestStat())"
   ]
  },
  {
   "cell_type": "code",
   "execution_count": 8,
   "metadata": {
    "collapsed": true
   },
   "outputs": [],
   "source": [
    "%matplotlib inline "
   ]
  },
  {
   "cell_type": "code",
   "execution_count": 9,
   "metadata": {
    "collapsed": true
   },
   "outputs": [],
   "source": [
    "def RunTests(data, iters=1000):\n",
    "    \"\"\"Runs several tests on the given data.\n",
    "\n",
    "    data: pair of sequences\n",
    "    iters: number of iterations to run\n",
    "    \"\"\"\n",
    "\n",
    "    # test the difference in means\n",
    "    ht = DiffMeansPermute(data)\n",
    "    p_value = ht.PValue(iters=iters)\n",
    "    print('\\nmeans permute two-sided')\n",
    "    PrintTest(p_value, ht)\n",
    "\n",
    "    ht.PlotCdf()\n",
    "    thinkplot.Save(root='hypothesis1',\n",
    "                   title='Permutation test',\n",
    "                   xlabel='difference in means (books per library)',\n",
    "                   ylabel='CDF',\n",
    "                   legend=False) \n",
    "    \n",
    "    \n",
    "    # test the difference in means one-sided\n",
    "    ht = DiffMeansOneSided(data)\n",
    "    p_value = ht.PValue(iters=iters)\n",
    "    print('\\nmeans permute one-sided')\n",
    "    PrintTest(p_value, ht)\n",
    "\n",
    "    # test the difference in std\n",
    "    ht = DiffStdPermute(data)\n",
    "    p_value = ht.PValue(iters=iters)\n",
    "    print('\\nstd permute one-sided')\n",
    "    PrintTest(p_value, ht)"
   ]
  },
  {
   "cell_type": "code",
   "execution_count": 10,
   "metadata": {
    "collapsed": false
   },
   "outputs": [],
   "source": [
    "data_1 = np.array(data1)\n",
    "data_2 = np.array(data2)\n",
    "data = data_1, data_2"
   ]
  },
  {
   "cell_type": "code",
   "execution_count": 11,
   "metadata": {
    "collapsed": false
   },
   "outputs": [
    {
     "name": "stdout",
     "output_type": "stream",
     "text": [
      "\n",
      "means permute two-sided\n",
      "p-value = 0.078\n",
      "actual = 8178.77821346\n",
      "ts max = 14647.2754674\n",
      "Writing hypothesis1.pdf\n",
      "Writing hypothesis1.eps\n",
      "\n",
      "means permute one-sided\n",
      "p-value = 0.045\n",
      "actual = 8178.77821346\n",
      "ts max = 15506.2988752\n",
      "\n",
      "std permute one-sided\n",
      "p-value = 0.426\n",
      "actual = -4896.90338984\n",
      "ts max = 30695.7353029\n"
     ]
    },
    {
     "data": {
      "text/plain": [
       "<matplotlib.figure.Figure at 0x7f9de5cb6438>"
      ]
     },
     "metadata": {},
     "output_type": "display_data"
    }
   ],
   "source": [
    "book = DiffMeansPermute(data)\n",
    "RunTests(data)"
   ]
  },
  {
   "cell_type": "markdown",
   "metadata": {
    "collapsed": true
   },
   "source": [
    "two-sided에서의 pvalue가 0.05보다 크므로 null hypothesis 가 참이라고 할 수 있다.\n",
    "\n",
    "(one-sided의 값들이 0.05에 가까워서 two-sided의 값으로 결론을 냈습니다.)\n",
    "\n",
    "\n",
    "그러므로 hypothesis는 거짓이라고 할 수 있다"
   ]
  },
  {
   "cell_type": "markdown",
   "metadata": {
    "collapsed": true
   },
   "source": [
    "결론 : 수도권과 비수도권의 도서관 당 보유한 자료수의 distribution은 같다"
   ]
  }
 ],
 "metadata": {
  "kernelspec": {
   "display_name": "Python 3",
   "language": "python",
   "name": "python3"
  },
  "language_info": {
   "codemirror_mode": {
    "name": "ipython",
    "version": 3
   },
   "file_extension": ".py",
   "mimetype": "text/x-python",
   "name": "python",
   "nbconvert_exporter": "python",
   "pygments_lexer": "ipython3",
   "version": "3.5.1"
  }
 },
 "nbformat": 4,
 "nbformat_minor": 0
}
